{
 "cells": [
  {
   "cell_type": "code",
   "execution_count": 3,
   "metadata": {},
   "outputs": [
    {
     "data": {
      "text/plain": [
       "359.4115884115884"
      ]
     },
     "execution_count": 3,
     "metadata": {},
     "output_type": "execute_result"
    }
   ],
   "source": [
    "import numpy as np\n",
    "import matplotlib.pyplot as plt\n",
    "sumup=0\n",
    "q=np.zeros(1)\n",
    "a,b=np.random.uniform(-1,1,size=(2,2))\n",
    "    \n",
    "m,intercept=np.polyfit(a,b,1)\n",
    "for k in range(1000):  \n",
    "    X=np.random.uniform(-1,1,size=(100,3))\n",
    "    X[:,2]=1\n",
    "    a,b=np.random.uniform(-1,1,size=(2,2))\n",
    "    m,intercept=np.polyfit(a,b,1)\n",
    "    Y=np.zeros(len(X))\n",
    "    for i  in range(len(X)):\n",
    "        if (X[i,1]-m*X[i,0]-intercept)>=0:\n",
    "            \n",
    "            Y[i]=-1\n",
    "        else:\n",
    "            Y[i]=1        \n",
    "        \n",
    "           \n",
    "    w=np.zeros(3)\n",
    "    unit_step = lambda z: -1 if z < 0 else 1\n",
    "    N=1000\n",
    "    eta=0.1\n",
    "    errors=[]\n",
    "    er=np.zeros(1)\n",
    "    PQ=[]\n",
    "    for l in range(N):\n",
    "        pq=np.random.choice(100)\n",
    "        PQ=np.append(PQ,pq)\n",
    "        x=X[pq]\n",
    "        y=Y[pq]\n",
    "        result=np.dot(w,x)\n",
    "        error=y-unit_step(result)\n",
    "        errors.append(error)\n",
    "        w +=  error * x\n",
    "    er=np.asarray(np.nonzero(errors))    \n",
    "    if errors[0]==0:\n",
    "        maxi=0\n",
    "    else:\n",
    "        maxi=np.amax(er)+1\n",
    "    \n",
    "    q=np.append(q,maxi)\n",
    "    positive=[abs(t) for t in errors]\n",
    "    errorrate=positive.count(2)\n",
    "    sumup=sumup+errorrate\n",
    "    from pylab import plot, ylim \n",
    "    ylim([-3,3]) \n",
    "    plot(errors);\n",
    "    plt.scatter(X[:,0],X[:,1],c=Y);plt.plot(a,b);plt.grid()        \n",
    "np.mean(q)"
   ]
  },
  {
   "cell_type": "code",
   "execution_count": null,
   "metadata": {
    "collapsed": true
   },
   "outputs": [],
   "source": []
  }
 ],
 "metadata": {
  "kernelspec": {
   "display_name": "Python 3",
   "language": "python",
   "name": "python3"
  }
 },
 "nbformat": 4,
 "nbformat_minor": 2
}
